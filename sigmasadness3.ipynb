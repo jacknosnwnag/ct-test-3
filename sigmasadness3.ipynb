{
 "cells": [
  {
   "attachments": {},
   "cell_type": "markdown",
   "metadata": {},
   "source": [
    "### **9 CTB Computing Assessment**"
   ]
  },
  {
   "attachments": {},
   "cell_type": "markdown",
   "metadata": {},
   "source": [
    "##### The scenario that I chose for this task is Covid-19 cases and its impact on differnet countries and geographical regions and I am analysing this data to figure out  different countries faced Covid-19, and how the effects it had. I will analyse this in CSV format.\n",
    "\n",
    "##### Link to dataset https://www.kaggle.com/datasets/imdevskp/corona-virus-report"
   ]
  },
  {
   "attachments": {},
   "cell_type": "markdown",
   "metadata": {},
   "source": [
    "### **Function requirements**\n",
    "\n",
    "### Data Loading\n",
    "Load Data: Implement functions to load data from CSV files.\\\n",
    "Validate Data: Ensure the loaded data is in a structured format suitable for analysis.\n",
    "#### Data Cleaning\n",
    "Filtering: Implement functions to filter data based on specified criteria.\\\n",
    "Grouping: Implement functions to group data by different categories.\\\n",
    "Handling Missing Values: Develop strategies for handling missing or incomplete data.\\\n",
    "Data Transformation: Ensure data is in the correct format for analysis\n",
    "### Data Analysis\n",
    " Statistical Analysis: Implement functions to perform basic statistical analysis (mean, median, mode, standard deviation).\\\n",
    " Trend Analysis: Identify and analyze trends within the data.\\\n",
    " Comparative Analysis: Compare different groups within the data to identify significant differences.\n",
    "### Data visualization:\n",
    " Display the data through graphs / charts for easier visualization.\n",
    "### Data reporting:\n",
    " Generate and save graphs / charts in appropriate formats such as PNG, JPEG, PDF\\\n",
    " Provide a comprehensive statistical summary of the analysis\n",
    "\n",
    "\n",
    "\n"
   ]
  },
  {
   "attachments": {},
   "cell_type": "markdown",
   "metadata": {},
   "source": [
    "#### **Data Loading**\n",
    "#### Use Cases \n",
    "##### Actor: User\n",
    "##### Goal: To load a dataset into the system.\n",
    "##### Preconditions: User has a dataset file ready.\n",
    "##### Main Flow:\n",
    "##### 1. User selects the \"Load Data\" option\n",
    "##### 2. User chooses a CSV file from local storage.\n",
    "##### 3. System reads and validates the data.\n",
    "###### Postconditions: Dataset is loaded and ready for analysis.\n",
    "\n",
    "\n",
    "#### **Data Analysis**\n",
    "#### Use Cases \n",
    "##### Actor: User\n",
    "##### Goal: To analyze the loaded dataset for specific information.\n",
    "##### Preconditions: Dataset is loaded and ready for analysis.\n",
    "##### Main Flow:\n",
    "##### 1. User selects the \"Analyze Data\" option.\n",
    "##### 2. User chooses the type of analysis (e.g., statistical, trend, comparative).\n",
    "##### 3. System performs the chosen analysis and displays the results.\n",
    "###### Postconditions: Analysis results are available for review.\n",
    "\n",
    "\n",
    "#### **Data Cleaning**\n",
    "#### Use Cases \n",
    "##### Actor: User\n",
    "##### Goal: To filter out unnecessary information from the dataset\n",
    "##### Preconditions: Dataset is loaded and ready for cleaning.\n",
    "##### Main Flow:\n",
    "##### 1. User selects the \"Clean Data\" option.\n",
    "##### 2. User specifies criteria for filtering, grouping, or handling missing values.\n",
    "##### 3. System processes the data according to the specified criteria.\n",
    "###### Postconditions: The dataset is cleaned of all unnecessary information\n",
    "\n",
    "#### **Data Visualisation**\n",
    "#### Use Cases \n",
    "##### Actor: User\n",
    "##### Goal: To visualize the dataset in a simple way\n",
    "##### Preconditions:Analysis results are available.\n",
    "##### Main Flow:\n",
    "##### 1. User selects the \"Visualize Data\" option.\n",
    "##### 2. User chooses the type of visualization (e.g., graph, chart).\n",
    "##### 3. System generates and displays the chosen visualization.\n",
    "###### Postconditions: The data is visualised in a simple way such as in a graph or chart\n",
    "\n",
    "#### **Data Reporting**\n",
    "#### Use Cases \n",
    "##### Actor: User\n",
    "##### Goal: To generate and save reports of the analysis.\n",
    "##### Preconditions: Analysis and visualizations are available.\n",
    "##### Main Flow:\n",
    "##### 1. User selects the \"Generate Report\" option.\n",
    "##### 2. User specifies the format (e.g., PNG, JPEG, PDF).\n",
    "##### 3. System generates and saves the report in the specified format.\n",
    "###### Postconditions: Comprehensive statistical report is available for review and sharing.\n",
    "\n"
   ]
  },
  {
   "attachments": {},
   "cell_type": "markdown",
   "metadata": {},
   "source": []
  }
 ],
 "metadata": {
  "language_info": {
   "name": "python"
  },
  "orig_nbformat": 4
 },
 "nbformat": 4,
 "nbformat_minor": 2
}
