{
 "cells": [
  {
   "attachments": {},
   "cell_type": "markdown",
   "metadata": {},
   "source": [
    "### **9 CTB Computing Assessment**"
   ]
  },
  {
   "attachments": {},
   "cell_type": "markdown",
   "metadata": {},
   "source": [
    "##### The scenario that I chose for this task is Covid-19 cases and its impact on differnet countries and geographical regions and I am analysing this data to figure out  different countries faced Covid-19, and how the effects it had. I will analyse this in CSV format.\n",
    "\n",
    "##### Link to dataset https://www.kaggle.com/datasets/imdevskp/corona-virus-report"
   ]
  },
  {
   "attachments": {},
   "cell_type": "markdown",
   "metadata": {},
   "source": [
    "### **Function requirements**\n",
    "\n",
    "### Data Loading\n",
    "Load Data: Implement functions to load data from CSV files.\n",
    "#### Validate Data: Ensure the loaded data is in a structured format suitable for analysis.\n",
    "#### Data Cleaning\n",
    "Filtering: Implement functions to filter data based on specified criteria.\n",
    "Grouping: Implement functions to group data by different categories.\n",
    "Handling Missing Values: Develop strategies for handling missing or incomplete data.\n",
    "Data Transformation: Ensure data is in the correct format for analysis\n",
    "### Data Analysis\n",
    " Statistical Analysis: Implement functions to perform basic statistical analysis (mean, median, mode, standard deviation).\n",
    " Trend Analysis: Identify and analyze trends within the data.\n",
    " Comparative Analysis: Compare different groups within the data to identify significant differences.\n",
    "### Data visualization:\n",
    " Display the data through graphs / charts for easier visualization\n",
    "### Data reporting:\n",
    " Generate and save graphs / charts in appropriate formats such as PNG, JPEG, PDF\n",
    " Provide a comprehensive statistical summary of the analysis\n",
    "\n",
    "\n",
    "\n"
   ]
  },
  {
   "attachments": {},
   "cell_type": "markdown",
   "metadata": {},
   "source": [
    "#### Use Cases \n",
    "##### Actor: User\n",
    "##### Goal: To load a dataset into the system.\n",
    "##### Preconditions: User has a dataset file ready.\n",
    "##### Main Flow:\n",
    "##### User places the dataset for reading into the correct folder.\n",
    "##### System validates the file format.\n",
    "##### System loads the dataset and displays the information in a dataframe.\n",
    "##### Postconditions: Dataset is loaded and ready for analysis.\n",
    "\n"
   ]
  },
  {
   "attachments": {},
   "cell_type": "markdown",
   "metadata": {},
   "source": []
  }
 ],
 "metadata": {
  "language_info": {
   "name": "python"
  },
  "orig_nbformat": 4
 },
 "nbformat": 4,
 "nbformat_minor": 2
}
